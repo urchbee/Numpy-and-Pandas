{
  "nbformat": 4,
  "nbformat_minor": 0,
  "metadata": {
    "kernelspec": {
      "display_name": "Python 3",
      "language": "python",
      "name": "python3"
    },
    "language_info": {
      "codemirror_mode": {
        "name": "ipython",
        "version": 3
      },
      "file_extension": ".py",
      "mimetype": "text/x-python",
      "name": "python",
      "nbconvert_exporter": "python",
      "pygments_lexer": "ipython3",
      "version": "3.8.5"
    },
    "colab": {
      "name": "Numpy-x-Pandas-assignment.ipynb",
      "provenance": [],
      "collapsed_sections": [],
      "include_colab_link": true
    }
  },
  "cells": [
    {
      "cell_type": "markdown",
      "metadata": {
        "id": "view-in-github",
        "colab_type": "text"
      },
      "source": [
        "<a href=\"https://colab.research.google.com/github/urchbee/Numpy-and-Pandas/blob/main/Numpy_x_Pandas_assignment.ipynb\" target=\"_parent\"><img src=\"https://colab.research.google.com/assets/colab-badge.svg\" alt=\"Open In Colab\"/></a>"
      ]
    },
    {
      "cell_type": "code",
      "metadata": {
        "id": "8vSDr6CMDWTS"
      },
      "source": [
        "import pandas as pd"
      ],
      "execution_count": 1,
      "outputs": []
    },
    {
      "cell_type": "markdown",
      "metadata": {
        "id": "F3TRjccJONWB"
      },
      "source": [
        "1. Create a nested list which contains the name, age and race of 10 people each. Turn this list to a dataframe."
      ]
    },
    {
      "cell_type": "code",
      "metadata": {
        "colab": {
          "base_uri": "https://localhost:8080/",
          "height": 359
        },
        "id": "-nVDm3lsCsrA",
        "outputId": "0ed95279-66a9-4b3b-a21a-e21214ff8266"
      },
      "source": [
        "#creating dataframe from a nested list\n",
        "personal_info = [[\"Sandra\", 30, \"Black\"], [\"Gong Yoo\", 44, \"Caucasian\"], \n",
        "                [\"Melanie\", 33, \"White\"], [\"Seo Joon\", 32, \"Caucasian\"], \n",
        "                [\"Frances\", 37, \"Black\"],[\"Eugene\", 36, \"Black\"],\n",
        "                [\"Jessi\", 34, \"Caucasian\"], [\"Mary\", 27, \"White\"],\n",
        "                [\"Stephanie\", 22, \"Black\"], [\"Dominic\", 19, \"White\"]]\n",
        "revised_info = pd.DataFrame(personal_info)\n",
        "revised_info"
      ],
      "execution_count": 2,
      "outputs": [
        {
          "output_type": "execute_result",
          "data": {
            "text/html": [
              "<div>\n",
              "<style scoped>\n",
              "    .dataframe tbody tr th:only-of-type {\n",
              "        vertical-align: middle;\n",
              "    }\n",
              "\n",
              "    .dataframe tbody tr th {\n",
              "        vertical-align: top;\n",
              "    }\n",
              "\n",
              "    .dataframe thead th {\n",
              "        text-align: right;\n",
              "    }\n",
              "</style>\n",
              "<table border=\"1\" class=\"dataframe\">\n",
              "  <thead>\n",
              "    <tr style=\"text-align: right;\">\n",
              "      <th></th>\n",
              "      <th>0</th>\n",
              "      <th>1</th>\n",
              "      <th>2</th>\n",
              "    </tr>\n",
              "  </thead>\n",
              "  <tbody>\n",
              "    <tr>\n",
              "      <th>0</th>\n",
              "      <td>Sandra</td>\n",
              "      <td>30</td>\n",
              "      <td>Black</td>\n",
              "    </tr>\n",
              "    <tr>\n",
              "      <th>1</th>\n",
              "      <td>Gong Yoo</td>\n",
              "      <td>44</td>\n",
              "      <td>Caucasian</td>\n",
              "    </tr>\n",
              "    <tr>\n",
              "      <th>2</th>\n",
              "      <td>Melanie</td>\n",
              "      <td>33</td>\n",
              "      <td>White</td>\n",
              "    </tr>\n",
              "    <tr>\n",
              "      <th>3</th>\n",
              "      <td>Seo Joon</td>\n",
              "      <td>32</td>\n",
              "      <td>Caucasian</td>\n",
              "    </tr>\n",
              "    <tr>\n",
              "      <th>4</th>\n",
              "      <td>Frances</td>\n",
              "      <td>37</td>\n",
              "      <td>Black</td>\n",
              "    </tr>\n",
              "    <tr>\n",
              "      <th>5</th>\n",
              "      <td>Eugene</td>\n",
              "      <td>36</td>\n",
              "      <td>Black</td>\n",
              "    </tr>\n",
              "    <tr>\n",
              "      <th>6</th>\n",
              "      <td>Jessi</td>\n",
              "      <td>34</td>\n",
              "      <td>Caucasian</td>\n",
              "    </tr>\n",
              "    <tr>\n",
              "      <th>7</th>\n",
              "      <td>Mary</td>\n",
              "      <td>27</td>\n",
              "      <td>White</td>\n",
              "    </tr>\n",
              "    <tr>\n",
              "      <th>8</th>\n",
              "      <td>Stephanie</td>\n",
              "      <td>22</td>\n",
              "      <td>Black</td>\n",
              "    </tr>\n",
              "    <tr>\n",
              "      <th>9</th>\n",
              "      <td>Dominic</td>\n",
              "      <td>19</td>\n",
              "      <td>White</td>\n",
              "    </tr>\n",
              "  </tbody>\n",
              "</table>\n",
              "</div>"
            ],
            "text/plain": [
              "           0   1          2\n",
              "0     Sandra  30      Black\n",
              "1   Gong Yoo  44  Caucasian\n",
              "2    Melanie  33      White\n",
              "3   Seo Joon  32  Caucasian\n",
              "4    Frances  37      Black\n",
              "5     Eugene  36      Black\n",
              "6      Jessi  34  Caucasian\n",
              "7       Mary  27      White\n",
              "8  Stephanie  22      Black\n",
              "9    Dominic  19      White"
            ]
          },
          "metadata": {},
          "execution_count": 2
        }
      ]
    },
    {
      "cell_type": "markdown",
      "metadata": {
        "id": "EwSu_P0NONWF"
      },
      "source": [
        "2. Label the columns with the appropriate column names"
      ]
    },
    {
      "cell_type": "code",
      "metadata": {
        "colab": {
          "base_uri": "https://localhost:8080/",
          "height": 359
        },
        "id": "ivjpm08oKKme",
        "outputId": "69daadac-9200-44fc-f219-688d0a080964"
      },
      "source": [
        "#changing column names in revised_info \n",
        "revised_info.columns = [\"Name\", \"Age\", \"Race\"]\n",
        "revised_info\n"
      ],
      "execution_count": 3,
      "outputs": [
        {
          "output_type": "execute_result",
          "data": {
            "text/html": [
              "<div>\n",
              "<style scoped>\n",
              "    .dataframe tbody tr th:only-of-type {\n",
              "        vertical-align: middle;\n",
              "    }\n",
              "\n",
              "    .dataframe tbody tr th {\n",
              "        vertical-align: top;\n",
              "    }\n",
              "\n",
              "    .dataframe thead th {\n",
              "        text-align: right;\n",
              "    }\n",
              "</style>\n",
              "<table border=\"1\" class=\"dataframe\">\n",
              "  <thead>\n",
              "    <tr style=\"text-align: right;\">\n",
              "      <th></th>\n",
              "      <th>Name</th>\n",
              "      <th>Age</th>\n",
              "      <th>Race</th>\n",
              "    </tr>\n",
              "  </thead>\n",
              "  <tbody>\n",
              "    <tr>\n",
              "      <th>0</th>\n",
              "      <td>Sandra</td>\n",
              "      <td>30</td>\n",
              "      <td>Black</td>\n",
              "    </tr>\n",
              "    <tr>\n",
              "      <th>1</th>\n",
              "      <td>Gong Yoo</td>\n",
              "      <td>44</td>\n",
              "      <td>Caucasian</td>\n",
              "    </tr>\n",
              "    <tr>\n",
              "      <th>2</th>\n",
              "      <td>Melanie</td>\n",
              "      <td>33</td>\n",
              "      <td>White</td>\n",
              "    </tr>\n",
              "    <tr>\n",
              "      <th>3</th>\n",
              "      <td>Seo Joon</td>\n",
              "      <td>32</td>\n",
              "      <td>Caucasian</td>\n",
              "    </tr>\n",
              "    <tr>\n",
              "      <th>4</th>\n",
              "      <td>Frances</td>\n",
              "      <td>37</td>\n",
              "      <td>Black</td>\n",
              "    </tr>\n",
              "    <tr>\n",
              "      <th>5</th>\n",
              "      <td>Eugene</td>\n",
              "      <td>36</td>\n",
              "      <td>Black</td>\n",
              "    </tr>\n",
              "    <tr>\n",
              "      <th>6</th>\n",
              "      <td>Jessi</td>\n",
              "      <td>34</td>\n",
              "      <td>Caucasian</td>\n",
              "    </tr>\n",
              "    <tr>\n",
              "      <th>7</th>\n",
              "      <td>Mary</td>\n",
              "      <td>27</td>\n",
              "      <td>White</td>\n",
              "    </tr>\n",
              "    <tr>\n",
              "      <th>8</th>\n",
              "      <td>Stephanie</td>\n",
              "      <td>22</td>\n",
              "      <td>Black</td>\n",
              "    </tr>\n",
              "    <tr>\n",
              "      <th>9</th>\n",
              "      <td>Dominic</td>\n",
              "      <td>19</td>\n",
              "      <td>White</td>\n",
              "    </tr>\n",
              "  </tbody>\n",
              "</table>\n",
              "</div>"
            ],
            "text/plain": [
              "        Name  Age       Race\n",
              "0     Sandra   30      Black\n",
              "1   Gong Yoo   44  Caucasian\n",
              "2    Melanie   33      White\n",
              "3   Seo Joon   32  Caucasian\n",
              "4    Frances   37      Black\n",
              "5     Eugene   36      Black\n",
              "6      Jessi   34  Caucasian\n",
              "7       Mary   27      White\n",
              "8  Stephanie   22      Black\n",
              "9    Dominic   19      White"
            ]
          },
          "metadata": {},
          "execution_count": 3
        }
      ]
    },
    {
      "cell_type": "markdown",
      "metadata": {
        "id": "7gSj1WGuONWG"
      },
      "source": [
        "3. Add a new column to your dataframe called weight and enter values for it."
      ]
    },
    {
      "cell_type": "code",
      "metadata": {
        "colab": {
          "base_uri": "https://localhost:8080/",
          "height": 359
        },
        "id": "LGmiaOjbLxkl",
        "outputId": "1cbfe319-229b-4863-b51e-500383d6d292"
      },
      "source": [
        "#adding another column to revised_info data above\n",
        "revised_info[\"Weight\"] = [55, 80 , 50 , 65 , 50 , 75 , 45 , 70 , 85 , 90]\n",
        "revised_info"
      ],
      "execution_count": 4,
      "outputs": [
        {
          "output_type": "execute_result",
          "data": {
            "text/html": [
              "<div>\n",
              "<style scoped>\n",
              "    .dataframe tbody tr th:only-of-type {\n",
              "        vertical-align: middle;\n",
              "    }\n",
              "\n",
              "    .dataframe tbody tr th {\n",
              "        vertical-align: top;\n",
              "    }\n",
              "\n",
              "    .dataframe thead th {\n",
              "        text-align: right;\n",
              "    }\n",
              "</style>\n",
              "<table border=\"1\" class=\"dataframe\">\n",
              "  <thead>\n",
              "    <tr style=\"text-align: right;\">\n",
              "      <th></th>\n",
              "      <th>Name</th>\n",
              "      <th>Age</th>\n",
              "      <th>Race</th>\n",
              "      <th>Weight</th>\n",
              "    </tr>\n",
              "  </thead>\n",
              "  <tbody>\n",
              "    <tr>\n",
              "      <th>0</th>\n",
              "      <td>Sandra</td>\n",
              "      <td>30</td>\n",
              "      <td>Black</td>\n",
              "      <td>55</td>\n",
              "    </tr>\n",
              "    <tr>\n",
              "      <th>1</th>\n",
              "      <td>Gong Yoo</td>\n",
              "      <td>44</td>\n",
              "      <td>Caucasian</td>\n",
              "      <td>80</td>\n",
              "    </tr>\n",
              "    <tr>\n",
              "      <th>2</th>\n",
              "      <td>Melanie</td>\n",
              "      <td>33</td>\n",
              "      <td>White</td>\n",
              "      <td>50</td>\n",
              "    </tr>\n",
              "    <tr>\n",
              "      <th>3</th>\n",
              "      <td>Seo Joon</td>\n",
              "      <td>32</td>\n",
              "      <td>Caucasian</td>\n",
              "      <td>65</td>\n",
              "    </tr>\n",
              "    <tr>\n",
              "      <th>4</th>\n",
              "      <td>Frances</td>\n",
              "      <td>37</td>\n",
              "      <td>Black</td>\n",
              "      <td>50</td>\n",
              "    </tr>\n",
              "    <tr>\n",
              "      <th>5</th>\n",
              "      <td>Eugene</td>\n",
              "      <td>36</td>\n",
              "      <td>Black</td>\n",
              "      <td>75</td>\n",
              "    </tr>\n",
              "    <tr>\n",
              "      <th>6</th>\n",
              "      <td>Jessi</td>\n",
              "      <td>34</td>\n",
              "      <td>Caucasian</td>\n",
              "      <td>45</td>\n",
              "    </tr>\n",
              "    <tr>\n",
              "      <th>7</th>\n",
              "      <td>Mary</td>\n",
              "      <td>27</td>\n",
              "      <td>White</td>\n",
              "      <td>70</td>\n",
              "    </tr>\n",
              "    <tr>\n",
              "      <th>8</th>\n",
              "      <td>Stephanie</td>\n",
              "      <td>22</td>\n",
              "      <td>Black</td>\n",
              "      <td>85</td>\n",
              "    </tr>\n",
              "    <tr>\n",
              "      <th>9</th>\n",
              "      <td>Dominic</td>\n",
              "      <td>19</td>\n",
              "      <td>White</td>\n",
              "      <td>90</td>\n",
              "    </tr>\n",
              "  </tbody>\n",
              "</table>\n",
              "</div>"
            ],
            "text/plain": [
              "        Name  Age       Race  Weight\n",
              "0     Sandra   30      Black      55\n",
              "1   Gong Yoo   44  Caucasian      80\n",
              "2    Melanie   33      White      50\n",
              "3   Seo Joon   32  Caucasian      65\n",
              "4    Frances   37      Black      50\n",
              "5     Eugene   36      Black      75\n",
              "6      Jessi   34  Caucasian      45\n",
              "7       Mary   27      White      70\n",
              "8  Stephanie   22      Black      85\n",
              "9    Dominic   19      White      90"
            ]
          },
          "metadata": {},
          "execution_count": 4
        }
      ]
    },
    {
      "cell_type": "markdown",
      "metadata": {
        "id": "Q7Bk6XimONWG"
      },
      "source": [
        "4. Change the name of the column for \"weight\" to \"height\". Feel free to use any method you find. "
      ]
    },
    {
      "cell_type": "code",
      "metadata": {
        "colab": {
          "base_uri": "https://localhost:8080/",
          "height": 359
        },
        "id": "o1I7dDS0Rvwk",
        "outputId": "52260e03-7cdc-4492-dc02-9ef63c8c4a0e"
      },
      "source": [
        "#changing the column name from weight to height using .rename method\n",
        "revised_data = revised_info.rename(columns={\"Weight\" : \"Height\"})\n",
        "revised_data\n"
      ],
      "execution_count": 5,
      "outputs": [
        {
          "output_type": "execute_result",
          "data": {
            "text/html": [
              "<div>\n",
              "<style scoped>\n",
              "    .dataframe tbody tr th:only-of-type {\n",
              "        vertical-align: middle;\n",
              "    }\n",
              "\n",
              "    .dataframe tbody tr th {\n",
              "        vertical-align: top;\n",
              "    }\n",
              "\n",
              "    .dataframe thead th {\n",
              "        text-align: right;\n",
              "    }\n",
              "</style>\n",
              "<table border=\"1\" class=\"dataframe\">\n",
              "  <thead>\n",
              "    <tr style=\"text-align: right;\">\n",
              "      <th></th>\n",
              "      <th>Name</th>\n",
              "      <th>Age</th>\n",
              "      <th>Race</th>\n",
              "      <th>Height</th>\n",
              "    </tr>\n",
              "  </thead>\n",
              "  <tbody>\n",
              "    <tr>\n",
              "      <th>0</th>\n",
              "      <td>Sandra</td>\n",
              "      <td>30</td>\n",
              "      <td>Black</td>\n",
              "      <td>55</td>\n",
              "    </tr>\n",
              "    <tr>\n",
              "      <th>1</th>\n",
              "      <td>Gong Yoo</td>\n",
              "      <td>44</td>\n",
              "      <td>Caucasian</td>\n",
              "      <td>80</td>\n",
              "    </tr>\n",
              "    <tr>\n",
              "      <th>2</th>\n",
              "      <td>Melanie</td>\n",
              "      <td>33</td>\n",
              "      <td>White</td>\n",
              "      <td>50</td>\n",
              "    </tr>\n",
              "    <tr>\n",
              "      <th>3</th>\n",
              "      <td>Seo Joon</td>\n",
              "      <td>32</td>\n",
              "      <td>Caucasian</td>\n",
              "      <td>65</td>\n",
              "    </tr>\n",
              "    <tr>\n",
              "      <th>4</th>\n",
              "      <td>Frances</td>\n",
              "      <td>37</td>\n",
              "      <td>Black</td>\n",
              "      <td>50</td>\n",
              "    </tr>\n",
              "    <tr>\n",
              "      <th>5</th>\n",
              "      <td>Eugene</td>\n",
              "      <td>36</td>\n",
              "      <td>Black</td>\n",
              "      <td>75</td>\n",
              "    </tr>\n",
              "    <tr>\n",
              "      <th>6</th>\n",
              "      <td>Jessi</td>\n",
              "      <td>34</td>\n",
              "      <td>Caucasian</td>\n",
              "      <td>45</td>\n",
              "    </tr>\n",
              "    <tr>\n",
              "      <th>7</th>\n",
              "      <td>Mary</td>\n",
              "      <td>27</td>\n",
              "      <td>White</td>\n",
              "      <td>70</td>\n",
              "    </tr>\n",
              "    <tr>\n",
              "      <th>8</th>\n",
              "      <td>Stephanie</td>\n",
              "      <td>22</td>\n",
              "      <td>Black</td>\n",
              "      <td>85</td>\n",
              "    </tr>\n",
              "    <tr>\n",
              "      <th>9</th>\n",
              "      <td>Dominic</td>\n",
              "      <td>19</td>\n",
              "      <td>White</td>\n",
              "      <td>90</td>\n",
              "    </tr>\n",
              "  </tbody>\n",
              "</table>\n",
              "</div>"
            ],
            "text/plain": [
              "        Name  Age       Race  Height\n",
              "0     Sandra   30      Black      55\n",
              "1   Gong Yoo   44  Caucasian      80\n",
              "2    Melanie   33      White      50\n",
              "3   Seo Joon   32  Caucasian      65\n",
              "4    Frances   37      Black      50\n",
              "5     Eugene   36      Black      75\n",
              "6      Jessi   34  Caucasian      45\n",
              "7       Mary   27      White      70\n",
              "8  Stephanie   22      Black      85\n",
              "9    Dominic   19      White      90"
            ]
          },
          "metadata": {},
          "execution_count": 5
        }
      ]
    },
    {
      "cell_type": "markdown",
      "metadata": {
        "id": "lTPop9lvONWG"
      },
      "source": [
        "5. Change the row index to another indexing of your choice."
      ]
    },
    {
      "cell_type": "code",
      "metadata": {
        "colab": {
          "base_uri": "https://localhost:8080/",
          "height": 359
        },
        "id": "Hc1eZKvjZSFl",
        "outputId": "137998fa-767f-4cfa-c04b-e4b2ddd0d970"
      },
      "source": [
        "#changing row index starting from 1 instead of 0\n",
        "revised_data.index = [1, 2, 3, 4, 5, 6, 7, 8, 9, 10]\n",
        "revised_data"
      ],
      "execution_count": 6,
      "outputs": [
        {
          "output_type": "execute_result",
          "data": {
            "text/html": [
              "<div>\n",
              "<style scoped>\n",
              "    .dataframe tbody tr th:only-of-type {\n",
              "        vertical-align: middle;\n",
              "    }\n",
              "\n",
              "    .dataframe tbody tr th {\n",
              "        vertical-align: top;\n",
              "    }\n",
              "\n",
              "    .dataframe thead th {\n",
              "        text-align: right;\n",
              "    }\n",
              "</style>\n",
              "<table border=\"1\" class=\"dataframe\">\n",
              "  <thead>\n",
              "    <tr style=\"text-align: right;\">\n",
              "      <th></th>\n",
              "      <th>Name</th>\n",
              "      <th>Age</th>\n",
              "      <th>Race</th>\n",
              "      <th>Height</th>\n",
              "    </tr>\n",
              "  </thead>\n",
              "  <tbody>\n",
              "    <tr>\n",
              "      <th>1</th>\n",
              "      <td>Sandra</td>\n",
              "      <td>30</td>\n",
              "      <td>Black</td>\n",
              "      <td>55</td>\n",
              "    </tr>\n",
              "    <tr>\n",
              "      <th>2</th>\n",
              "      <td>Gong Yoo</td>\n",
              "      <td>44</td>\n",
              "      <td>Caucasian</td>\n",
              "      <td>80</td>\n",
              "    </tr>\n",
              "    <tr>\n",
              "      <th>3</th>\n",
              "      <td>Melanie</td>\n",
              "      <td>33</td>\n",
              "      <td>White</td>\n",
              "      <td>50</td>\n",
              "    </tr>\n",
              "    <tr>\n",
              "      <th>4</th>\n",
              "      <td>Seo Joon</td>\n",
              "      <td>32</td>\n",
              "      <td>Caucasian</td>\n",
              "      <td>65</td>\n",
              "    </tr>\n",
              "    <tr>\n",
              "      <th>5</th>\n",
              "      <td>Frances</td>\n",
              "      <td>37</td>\n",
              "      <td>Black</td>\n",
              "      <td>50</td>\n",
              "    </tr>\n",
              "    <tr>\n",
              "      <th>6</th>\n",
              "      <td>Eugene</td>\n",
              "      <td>36</td>\n",
              "      <td>Black</td>\n",
              "      <td>75</td>\n",
              "    </tr>\n",
              "    <tr>\n",
              "      <th>7</th>\n",
              "      <td>Jessi</td>\n",
              "      <td>34</td>\n",
              "      <td>Caucasian</td>\n",
              "      <td>45</td>\n",
              "    </tr>\n",
              "    <tr>\n",
              "      <th>8</th>\n",
              "      <td>Mary</td>\n",
              "      <td>27</td>\n",
              "      <td>White</td>\n",
              "      <td>70</td>\n",
              "    </tr>\n",
              "    <tr>\n",
              "      <th>9</th>\n",
              "      <td>Stephanie</td>\n",
              "      <td>22</td>\n",
              "      <td>Black</td>\n",
              "      <td>85</td>\n",
              "    </tr>\n",
              "    <tr>\n",
              "      <th>10</th>\n",
              "      <td>Dominic</td>\n",
              "      <td>19</td>\n",
              "      <td>White</td>\n",
              "      <td>90</td>\n",
              "    </tr>\n",
              "  </tbody>\n",
              "</table>\n",
              "</div>"
            ],
            "text/plain": [
              "         Name  Age       Race  Height\n",
              "1      Sandra   30      Black      55\n",
              "2    Gong Yoo   44  Caucasian      80\n",
              "3     Melanie   33      White      50\n",
              "4    Seo Joon   32  Caucasian      65\n",
              "5     Frances   37      Black      50\n",
              "6      Eugene   36      Black      75\n",
              "7       Jessi   34  Caucasian      45\n",
              "8        Mary   27      White      70\n",
              "9   Stephanie   22      Black      85\n",
              "10    Dominic   19      White      90"
            ]
          },
          "metadata": {},
          "execution_count": 6
        }
      ]
    },
    {
      "cell_type": "markdown",
      "metadata": {
        "id": "jT9g2_H0ONWH"
      },
      "source": [
        "6. Select/display only the age and race columns"
      ]
    },
    {
      "cell_type": "code",
      "metadata": {
        "colab": {
          "base_uri": "https://localhost:8080/",
          "height": 359
        },
        "id": "ojLcQIDiarY0",
        "outputId": "6196d960-633f-4bfc-e963-7dd55907e9c7"
      },
      "source": [
        "#displaying age and race columns by slicing using the .iloc method\n",
        "#iloc method is primarily for integer based indexing. \n",
        "#iloc[row slicing, column slicing]\n",
        "\n",
        "revised_data.iloc[0:10, 1:3]"
      ],
      "execution_count": 8,
      "outputs": [
        {
          "output_type": "execute_result",
          "data": {
            "text/html": [
              "<div>\n",
              "<style scoped>\n",
              "    .dataframe tbody tr th:only-of-type {\n",
              "        vertical-align: middle;\n",
              "    }\n",
              "\n",
              "    .dataframe tbody tr th {\n",
              "        vertical-align: top;\n",
              "    }\n",
              "\n",
              "    .dataframe thead th {\n",
              "        text-align: right;\n",
              "    }\n",
              "</style>\n",
              "<table border=\"1\" class=\"dataframe\">\n",
              "  <thead>\n",
              "    <tr style=\"text-align: right;\">\n",
              "      <th></th>\n",
              "      <th>Age</th>\n",
              "      <th>Race</th>\n",
              "    </tr>\n",
              "  </thead>\n",
              "  <tbody>\n",
              "    <tr>\n",
              "      <th>1</th>\n",
              "      <td>30</td>\n",
              "      <td>Black</td>\n",
              "    </tr>\n",
              "    <tr>\n",
              "      <th>2</th>\n",
              "      <td>44</td>\n",
              "      <td>Caucasian</td>\n",
              "    </tr>\n",
              "    <tr>\n",
              "      <th>3</th>\n",
              "      <td>33</td>\n",
              "      <td>White</td>\n",
              "    </tr>\n",
              "    <tr>\n",
              "      <th>4</th>\n",
              "      <td>32</td>\n",
              "      <td>Caucasian</td>\n",
              "    </tr>\n",
              "    <tr>\n",
              "      <th>5</th>\n",
              "      <td>37</td>\n",
              "      <td>Black</td>\n",
              "    </tr>\n",
              "    <tr>\n",
              "      <th>6</th>\n",
              "      <td>36</td>\n",
              "      <td>Black</td>\n",
              "    </tr>\n",
              "    <tr>\n",
              "      <th>7</th>\n",
              "      <td>34</td>\n",
              "      <td>Caucasian</td>\n",
              "    </tr>\n",
              "    <tr>\n",
              "      <th>8</th>\n",
              "      <td>27</td>\n",
              "      <td>White</td>\n",
              "    </tr>\n",
              "    <tr>\n",
              "      <th>9</th>\n",
              "      <td>22</td>\n",
              "      <td>Black</td>\n",
              "    </tr>\n",
              "    <tr>\n",
              "      <th>10</th>\n",
              "      <td>19</td>\n",
              "      <td>White</td>\n",
              "    </tr>\n",
              "  </tbody>\n",
              "</table>\n",
              "</div>"
            ],
            "text/plain": [
              "    Age       Race\n",
              "1    30      Black\n",
              "2    44  Caucasian\n",
              "3    33      White\n",
              "4    32  Caucasian\n",
              "5    37      Black\n",
              "6    36      Black\n",
              "7    34  Caucasian\n",
              "8    27      White\n",
              "9    22      Black\n",
              "10   19      White"
            ]
          },
          "metadata": {},
          "execution_count": 8
        }
      ]
    },
    {
      "cell_type": "markdown",
      "metadata": {
        "id": "nPffixWwONWH"
      },
      "source": [
        "7. Select/display the first five names and their age "
      ]
    },
    {
      "cell_type": "code",
      "metadata": {
        "colab": {
          "base_uri": "https://localhost:8080/",
          "height": 204
        },
        "id": "QEWVR_MzfbFG",
        "outputId": "32fe0757-2d80-4728-ef41-ffbd04581470"
      },
      "source": [
        "#showing the first 5 names and their age using same iloc method as above\n",
        "#slicing using .iloc(row slice, column slice)\n",
        "revised_data.iloc[0:5, 0:2]\n"
      ],
      "execution_count": 9,
      "outputs": [
        {
          "output_type": "execute_result",
          "data": {
            "text/html": [
              "<div>\n",
              "<style scoped>\n",
              "    .dataframe tbody tr th:only-of-type {\n",
              "        vertical-align: middle;\n",
              "    }\n",
              "\n",
              "    .dataframe tbody tr th {\n",
              "        vertical-align: top;\n",
              "    }\n",
              "\n",
              "    .dataframe thead th {\n",
              "        text-align: right;\n",
              "    }\n",
              "</style>\n",
              "<table border=\"1\" class=\"dataframe\">\n",
              "  <thead>\n",
              "    <tr style=\"text-align: right;\">\n",
              "      <th></th>\n",
              "      <th>Name</th>\n",
              "      <th>Age</th>\n",
              "    </tr>\n",
              "  </thead>\n",
              "  <tbody>\n",
              "    <tr>\n",
              "      <th>1</th>\n",
              "      <td>Sandra</td>\n",
              "      <td>30</td>\n",
              "    </tr>\n",
              "    <tr>\n",
              "      <th>2</th>\n",
              "      <td>Gong Yoo</td>\n",
              "      <td>44</td>\n",
              "    </tr>\n",
              "    <tr>\n",
              "      <th>3</th>\n",
              "      <td>Melanie</td>\n",
              "      <td>33</td>\n",
              "    </tr>\n",
              "    <tr>\n",
              "      <th>4</th>\n",
              "      <td>Seo Joon</td>\n",
              "      <td>32</td>\n",
              "    </tr>\n",
              "    <tr>\n",
              "      <th>5</th>\n",
              "      <td>Frances</td>\n",
              "      <td>37</td>\n",
              "    </tr>\n",
              "  </tbody>\n",
              "</table>\n",
              "</div>"
            ],
            "text/plain": [
              "       Name  Age\n",
              "1    Sandra   30\n",
              "2  Gong Yoo   44\n",
              "3   Melanie   33\n",
              "4  Seo Joon   32\n",
              "5   Frances   37"
            ]
          },
          "metadata": {},
          "execution_count": 9
        }
      ]
    },
    {
      "cell_type": "markdown",
      "metadata": {
        "id": "RnosePWHONWH"
      },
      "source": [
        "8. Select all rows but only the third column"
      ]
    },
    {
      "cell_type": "code",
      "metadata": {
        "colab": {
          "base_uri": "https://localhost:8080/",
          "height": 359
        },
        "id": "fsViVr9jhZeb",
        "outputId": "77bb8a03-e10b-465a-d326-6c35ddb393a6"
      },
      "source": [
        "#display all rows in the 3rd column which is \"Race\"\n",
        "#using same iloc method slice the positions before the 3rd column\n",
        "revised_data.iloc[0:10, 2:3]\n"
      ],
      "execution_count": 10,
      "outputs": [
        {
          "output_type": "execute_result",
          "data": {
            "text/html": [
              "<div>\n",
              "<style scoped>\n",
              "    .dataframe tbody tr th:only-of-type {\n",
              "        vertical-align: middle;\n",
              "    }\n",
              "\n",
              "    .dataframe tbody tr th {\n",
              "        vertical-align: top;\n",
              "    }\n",
              "\n",
              "    .dataframe thead th {\n",
              "        text-align: right;\n",
              "    }\n",
              "</style>\n",
              "<table border=\"1\" class=\"dataframe\">\n",
              "  <thead>\n",
              "    <tr style=\"text-align: right;\">\n",
              "      <th></th>\n",
              "      <th>Race</th>\n",
              "    </tr>\n",
              "  </thead>\n",
              "  <tbody>\n",
              "    <tr>\n",
              "      <th>1</th>\n",
              "      <td>Black</td>\n",
              "    </tr>\n",
              "    <tr>\n",
              "      <th>2</th>\n",
              "      <td>Caucasian</td>\n",
              "    </tr>\n",
              "    <tr>\n",
              "      <th>3</th>\n",
              "      <td>White</td>\n",
              "    </tr>\n",
              "    <tr>\n",
              "      <th>4</th>\n",
              "      <td>Caucasian</td>\n",
              "    </tr>\n",
              "    <tr>\n",
              "      <th>5</th>\n",
              "      <td>Black</td>\n",
              "    </tr>\n",
              "    <tr>\n",
              "      <th>6</th>\n",
              "      <td>Black</td>\n",
              "    </tr>\n",
              "    <tr>\n",
              "      <th>7</th>\n",
              "      <td>Caucasian</td>\n",
              "    </tr>\n",
              "    <tr>\n",
              "      <th>8</th>\n",
              "      <td>White</td>\n",
              "    </tr>\n",
              "    <tr>\n",
              "      <th>9</th>\n",
              "      <td>Black</td>\n",
              "    </tr>\n",
              "    <tr>\n",
              "      <th>10</th>\n",
              "      <td>White</td>\n",
              "    </tr>\n",
              "  </tbody>\n",
              "</table>\n",
              "</div>"
            ],
            "text/plain": [
              "         Race\n",
              "1       Black\n",
              "2   Caucasian\n",
              "3       White\n",
              "4   Caucasian\n",
              "5       Black\n",
              "6       Black\n",
              "7   Caucasian\n",
              "8       White\n",
              "9       Black\n",
              "10      White"
            ]
          },
          "metadata": {},
          "execution_count": 10
        }
      ]
    },
    {
      "cell_type": "markdown",
      "metadata": {
        "id": "loU9ctgRONWI"
      },
      "source": [
        "9. Write some code to return the row index back to the default numbering before it was changed. Use your researching skills."
      ]
    },
    {
      "cell_type": "code",
      "metadata": {
        "colab": {
          "base_uri": "https://localhost:8080/",
          "height": 359
        },
        "id": "9T5ANm3cpDCp",
        "outputId": "9b8fb470-a6be-4759-abb9-8fde6aef9036"
      },
      "source": [
        "#changing row index to default indexing starting from 0\n",
        "#resetting the row index using .reset_index(drop=True) method\n",
        "#.reset_index() adds the current row index as a new \"index\" column in DF, the (drop=True) does not add the new column of the current row index\n",
        "revised_info.reset_index(drop=True)\n"
      ],
      "execution_count": 11,
      "outputs": [
        {
          "output_type": "execute_result",
          "data": {
            "text/html": [
              "<div>\n",
              "<style scoped>\n",
              "    .dataframe tbody tr th:only-of-type {\n",
              "        vertical-align: middle;\n",
              "    }\n",
              "\n",
              "    .dataframe tbody tr th {\n",
              "        vertical-align: top;\n",
              "    }\n",
              "\n",
              "    .dataframe thead th {\n",
              "        text-align: right;\n",
              "    }\n",
              "</style>\n",
              "<table border=\"1\" class=\"dataframe\">\n",
              "  <thead>\n",
              "    <tr style=\"text-align: right;\">\n",
              "      <th></th>\n",
              "      <th>Name</th>\n",
              "      <th>Age</th>\n",
              "      <th>Race</th>\n",
              "      <th>Weight</th>\n",
              "    </tr>\n",
              "  </thead>\n",
              "  <tbody>\n",
              "    <tr>\n",
              "      <th>0</th>\n",
              "      <td>Sandra</td>\n",
              "      <td>30</td>\n",
              "      <td>Black</td>\n",
              "      <td>55</td>\n",
              "    </tr>\n",
              "    <tr>\n",
              "      <th>1</th>\n",
              "      <td>Gong Yoo</td>\n",
              "      <td>44</td>\n",
              "      <td>Caucasian</td>\n",
              "      <td>80</td>\n",
              "    </tr>\n",
              "    <tr>\n",
              "      <th>2</th>\n",
              "      <td>Melanie</td>\n",
              "      <td>33</td>\n",
              "      <td>White</td>\n",
              "      <td>50</td>\n",
              "    </tr>\n",
              "    <tr>\n",
              "      <th>3</th>\n",
              "      <td>Seo Joon</td>\n",
              "      <td>32</td>\n",
              "      <td>Caucasian</td>\n",
              "      <td>65</td>\n",
              "    </tr>\n",
              "    <tr>\n",
              "      <th>4</th>\n",
              "      <td>Frances</td>\n",
              "      <td>37</td>\n",
              "      <td>Black</td>\n",
              "      <td>50</td>\n",
              "    </tr>\n",
              "    <tr>\n",
              "      <th>5</th>\n",
              "      <td>Eugene</td>\n",
              "      <td>36</td>\n",
              "      <td>Black</td>\n",
              "      <td>75</td>\n",
              "    </tr>\n",
              "    <tr>\n",
              "      <th>6</th>\n",
              "      <td>Jessi</td>\n",
              "      <td>34</td>\n",
              "      <td>Caucasian</td>\n",
              "      <td>45</td>\n",
              "    </tr>\n",
              "    <tr>\n",
              "      <th>7</th>\n",
              "      <td>Mary</td>\n",
              "      <td>27</td>\n",
              "      <td>White</td>\n",
              "      <td>70</td>\n",
              "    </tr>\n",
              "    <tr>\n",
              "      <th>8</th>\n",
              "      <td>Stephanie</td>\n",
              "      <td>22</td>\n",
              "      <td>Black</td>\n",
              "      <td>85</td>\n",
              "    </tr>\n",
              "    <tr>\n",
              "      <th>9</th>\n",
              "      <td>Dominic</td>\n",
              "      <td>19</td>\n",
              "      <td>White</td>\n",
              "      <td>90</td>\n",
              "    </tr>\n",
              "  </tbody>\n",
              "</table>\n",
              "</div>"
            ],
            "text/plain": [
              "        Name  Age       Race  Weight\n",
              "0     Sandra   30      Black      55\n",
              "1   Gong Yoo   44  Caucasian      80\n",
              "2    Melanie   33      White      50\n",
              "3   Seo Joon   32  Caucasian      65\n",
              "4    Frances   37      Black      50\n",
              "5     Eugene   36      Black      75\n",
              "6      Jessi   34  Caucasian      45\n",
              "7       Mary   27      White      70\n",
              "8  Stephanie   22      Black      85\n",
              "9    Dominic   19      White      90"
            ]
          },
          "metadata": {},
          "execution_count": 11
        }
      ]
    },
    {
      "cell_type": "code",
      "metadata": {
        "id": "3yBUOaexONWI"
      },
      "source": [
        "chimamanda = {\"Books\":[\"Americanah\", \"Half of a Yellow Sun\", \"Purple Hibiscus\",\n",
        "                    \"The Thing Around Your Neck\", \"We Should All Be Feminists\"], \n",
        "             \"Ratings\":[297972, 120131, 5116, 32064, 204882]}"
      ],
      "execution_count": 12,
      "outputs": []
    },
    {
      "cell_type": "markdown",
      "metadata": {
        "id": "iT145jmMONWJ"
      },
      "source": [
        "10. Create a dataframe from the dictionary above. Using the dataframe, select books with ratings not less than 200000"
      ]
    },
    {
      "cell_type": "code",
      "metadata": {
        "colab": {
          "base_uri": "https://localhost:8080/",
          "height": 204
        },
        "id": "2duAIQfzvYI8",
        "outputId": "de0e6afa-7c0b-40db-da28-4213476d64cf"
      },
      "source": [
        "#create a dataframe from the dictionary\n",
        "Novels = pd.DataFrame(chimamanda)\n",
        "Novels"
      ],
      "execution_count": 13,
      "outputs": [
        {
          "output_type": "execute_result",
          "data": {
            "text/html": [
              "<div>\n",
              "<style scoped>\n",
              "    .dataframe tbody tr th:only-of-type {\n",
              "        vertical-align: middle;\n",
              "    }\n",
              "\n",
              "    .dataframe tbody tr th {\n",
              "        vertical-align: top;\n",
              "    }\n",
              "\n",
              "    .dataframe thead th {\n",
              "        text-align: right;\n",
              "    }\n",
              "</style>\n",
              "<table border=\"1\" class=\"dataframe\">\n",
              "  <thead>\n",
              "    <tr style=\"text-align: right;\">\n",
              "      <th></th>\n",
              "      <th>Books</th>\n",
              "      <th>Ratings</th>\n",
              "    </tr>\n",
              "  </thead>\n",
              "  <tbody>\n",
              "    <tr>\n",
              "      <th>0</th>\n",
              "      <td>Americanah</td>\n",
              "      <td>297972</td>\n",
              "    </tr>\n",
              "    <tr>\n",
              "      <th>1</th>\n",
              "      <td>Half of a Yellow Sun</td>\n",
              "      <td>120131</td>\n",
              "    </tr>\n",
              "    <tr>\n",
              "      <th>2</th>\n",
              "      <td>Purple Hibiscus</td>\n",
              "      <td>5116</td>\n",
              "    </tr>\n",
              "    <tr>\n",
              "      <th>3</th>\n",
              "      <td>The Thing Around Your Neck</td>\n",
              "      <td>32064</td>\n",
              "    </tr>\n",
              "    <tr>\n",
              "      <th>4</th>\n",
              "      <td>We Should All Be Feminists</td>\n",
              "      <td>204882</td>\n",
              "    </tr>\n",
              "  </tbody>\n",
              "</table>\n",
              "</div>"
            ],
            "text/plain": [
              "                        Books  Ratings\n",
              "0                  Americanah   297972\n",
              "1        Half of a Yellow Sun   120131\n",
              "2             Purple Hibiscus     5116\n",
              "3  The Thing Around Your Neck    32064\n",
              "4  We Should All Be Feminists   204882"
            ]
          },
          "metadata": {},
          "execution_count": 13
        }
      ]
    },
    {
      "cell_type": "code",
      "metadata": {
        "colab": {
          "base_uri": "https://localhost:8080/",
          "height": 111
        },
        "id": "_6P5-FXivoBr",
        "outputId": "4e6ce092-0170-4513-b636-7e2af9dbd36a"
      },
      "source": [
        "#print out books with ratings not less than 200000\n",
        "Novels[Novels.Ratings >= 200000]\n",
        "\n",
        "\n",
        "\n"
      ],
      "execution_count": 14,
      "outputs": [
        {
          "output_type": "execute_result",
          "data": {
            "text/html": [
              "<div>\n",
              "<style scoped>\n",
              "    .dataframe tbody tr th:only-of-type {\n",
              "        vertical-align: middle;\n",
              "    }\n",
              "\n",
              "    .dataframe tbody tr th {\n",
              "        vertical-align: top;\n",
              "    }\n",
              "\n",
              "    .dataframe thead th {\n",
              "        text-align: right;\n",
              "    }\n",
              "</style>\n",
              "<table border=\"1\" class=\"dataframe\">\n",
              "  <thead>\n",
              "    <tr style=\"text-align: right;\">\n",
              "      <th></th>\n",
              "      <th>Books</th>\n",
              "      <th>Ratings</th>\n",
              "    </tr>\n",
              "  </thead>\n",
              "  <tbody>\n",
              "    <tr>\n",
              "      <th>0</th>\n",
              "      <td>Americanah</td>\n",
              "      <td>297972</td>\n",
              "    </tr>\n",
              "    <tr>\n",
              "      <th>4</th>\n",
              "      <td>We Should All Be Feminists</td>\n",
              "      <td>204882</td>\n",
              "    </tr>\n",
              "  </tbody>\n",
              "</table>\n",
              "</div>"
            ],
            "text/plain": [
              "                        Books  Ratings\n",
              "0                  Americanah   297972\n",
              "4  We Should All Be Feminists   204882"
            ]
          },
          "metadata": {},
          "execution_count": 14
        }
      ]
    },
    {
      "cell_type": "code",
      "metadata": {
        "id": "YIdk0d87_ovt"
      },
      "source": [
        "import numpy as np"
      ],
      "execution_count": 15,
      "outputs": []
    },
    {
      "cell_type": "markdown",
      "metadata": {
        "id": "Iv2UJqNArVjM"
      },
      "source": [
        "11. Create a numpy array with data type boolean"
      ]
    },
    {
      "cell_type": "code",
      "metadata": {
        "colab": {
          "base_uri": "https://localhost:8080/"
        },
        "id": "LlhV7KpAuuhS",
        "outputId": "300eafdd-83a6-4bdc-bbbb-43bc3570c3e0"
      },
      "source": [
        "#creating a boolean data type array\n",
        "#using .array method and boolean true or false values\n",
        "arr = np.array([False, True, False, True, True, False])\n",
        "print(arr)"
      ],
      "execution_count": 16,
      "outputs": [
        {
          "output_type": "stream",
          "name": "stdout",
          "text": [
            "[False  True False  True  True False]\n"
          ]
        }
      ]
    },
    {
      "cell_type": "code",
      "metadata": {
        "id": "-RmPlq2Kqwk5",
        "colab": {
          "base_uri": "https://localhost:8080/"
        },
        "outputId": "f2511b13-87de-4c71-8a0e-2227b502768c"
      },
      "source": [
        "# 12. Convert the following array to an integer\n",
        "\n",
        "a = np.array([[True, False, False],\n",
        "              [True, True, True],\n",
        "              [False, False, False]])\n",
        "\n",
        "p = a.astype(int)\n",
        "\n",
        "print(p)"
      ],
      "execution_count": 17,
      "outputs": [
        {
          "output_type": "stream",
          "name": "stdout",
          "text": [
            "[[1 0 0]\n",
            " [1 1 1]\n",
            " [0 0 0]]\n"
          ]
        }
      ]
    },
    {
      "cell_type": "code",
      "metadata": {
        "id": "PviA_PmHsVUE",
        "colab": {
          "base_uri": "https://localhost:8080/"
        },
        "outputId": "db769965-49ba-4154-ef60-5cb738b9b907"
      },
      "source": [
        "#13. Stack these numpy arrays - vertically and horizontally\n",
        "# using hstack method to stack the rows horizontally\n",
        "\n",
        "a = np.array([[7, 8, 9],\n",
        "              [10, 11, 12]])\n",
        "\n",
        "aa = np.array([[1, 2, 3],\n",
        "               [4, 5, 6]])\n",
        "\n",
        "arow = np.hstack((a, aa))\n",
        "print(arow)\n"
      ],
      "execution_count": 18,
      "outputs": [
        {
          "output_type": "stream",
          "name": "stdout",
          "text": [
            "[[ 7  8  9  1  2  3]\n",
            " [10 11 12  4  5  6]]\n"
          ]
        }
      ]
    },
    {
      "cell_type": "code",
      "metadata": {
        "colab": {
          "base_uri": "https://localhost:8080/"
        },
        "id": "pT8YWWUfIAd7",
        "outputId": "812c18b9-3125-4a55-f847-662516d55755"
      },
      "source": [
        "#using vstack method to stack the columns vertically\n",
        "acolumn = np.vstack((a, aa))\n",
        "print(acolumn)"
      ],
      "execution_count": 19,
      "outputs": [
        {
          "output_type": "stream",
          "name": "stdout",
          "text": [
            "[[ 7  8  9]\n",
            " [10 11 12]\n",
            " [ 1  2  3]\n",
            " [ 4  5  6]]\n"
          ]
        }
      ]
    },
    {
      "cell_type": "markdown",
      "metadata": {
        "id": "Vr2vTe6AtTkp"
      },
      "source": [
        "14. Create 2 3D arrays, add them together to create a new array, then sort the new array."
      ]
    },
    {
      "cell_type": "code",
      "metadata": {
        "colab": {
          "base_uri": "https://localhost:8080/"
        },
        "id": "e5YM36GoDap-",
        "outputId": "183ebd75-9359-4695-9c6d-d29f88e18f8a"
      },
      "source": [
        "#creating 2 individual 3D arrays and joining together\n",
        "arr1 = np.array([[[0, 3, 1], [1, 5, 3]], [[4, 7, 6], [3, 2, 6]]])\n",
        "arr2 = np.array([[[5, 2, 3], [3, 0, 9]], [[9, 10, 8], [7, 9, 4]]])\n",
        "\n",
        "#using hstack method to join the rows \n",
        "arr3 = np.hstack((arr1, arr2))\n",
        "print(arr3)\n",
        "\n",
        "\n"
      ],
      "execution_count": 20,
      "outputs": [
        {
          "output_type": "stream",
          "name": "stdout",
          "text": [
            "[[[ 0  3  1]\n",
            "  [ 1  5  3]\n",
            "  [ 5  2  3]\n",
            "  [ 3  0  9]]\n",
            "\n",
            " [[ 4  7  6]\n",
            "  [ 3  2  6]\n",
            "  [ 9 10  8]\n",
            "  [ 7  9  4]]]\n"
          ]
        }
      ]
    },
    {
      "cell_type": "code",
      "metadata": {
        "colab": {
          "base_uri": "https://localhost:8080/"
        },
        "id": "wAeJnkJ-QBx7",
        "outputId": "e93b9cd7-b36f-43f1-a0b7-eee8cec3946b"
      },
      "source": [
        "#sorting array output above to put elements in ordered sequence\n",
        "#using .sort method prints out in sequential order\n",
        "print(np.sort(arr3))"
      ],
      "execution_count": 21,
      "outputs": [
        {
          "output_type": "stream",
          "name": "stdout",
          "text": [
            "[[[ 0  1  3]\n",
            "  [ 1  3  5]\n",
            "  [ 2  3  5]\n",
            "  [ 0  3  9]]\n",
            "\n",
            " [[ 4  6  7]\n",
            "  [ 2  3  6]\n",
            "  [ 8  9 10]\n",
            "  [ 4  7  9]]]\n"
          ]
        }
      ]
    },
    {
      "cell_type": "code",
      "metadata": {
        "id": "sR8Z-84utKIu",
        "colab": {
          "base_uri": "https://localhost:8080/"
        },
        "outputId": "939d1f1b-e72d-407d-d9ad-ae17d3eda94b"
      },
      "source": [
        "#15. Using step slicing, slice the array below from any position using 3 steps\n",
        "#step slicing: this is used to determine the step of the slicing. \n",
        "#1 element where you want the argument to start \n",
        "#2nd element where to stop \n",
        "#3rd element is how many steps to skip, here it is 3 steps\n",
        "\n",
        "a = np.array([5, 8, 7, 1, 0, 9, 4, 2, 6, 3])\n",
        "print(a[2:6:3])\n"
      ],
      "execution_count": 22,
      "outputs": [
        {
          "output_type": "stream",
          "name": "stdout",
          "text": [
            "[7 9]\n"
          ]
        }
      ]
    }
  ]
}